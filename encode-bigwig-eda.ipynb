{
 "cells": [
  {
   "cell_type": "markdown",
   "id": "a9a3f9e5",
   "metadata": {},
   "source": [
    "# ENCODE bigWig analysis questions\n",
    "\n",
    "Do your best to answer all parts of each question. You are encouraged to work in pairs. \n",
    "\n",
    "Answers to many questions may benefit from using more than one cell, as well as a combination of markdown and code cells.\n",
    "\n",
    "Put helper functions into a separate script (e.g. `hwutils.py`) so they can be commented on easily and focus the notebook on plotting. Also see the [workshop on Clean Code](https://drive.google.com/file/d/1TraVwRkbkCbHq-s_-NS69ZEbRNwH8XNh/view) from Dan Larremore (https://larremorelab.github.io/slides/) for good coding tips to use in this assignment.\n"
   ]
  },
  {
   "cell_type": "code",
   "execution_count": 1,
   "id": "cd08f210",
   "metadata": {},
   "outputs": [],
   "source": [
    "# useful libraries to import\n",
    "import sys\n",
    "\n",
    "import pandas as pd\n",
    "import numpy as np\n",
    "\n",
    "import  sklearn.decomposition\n",
    "\n",
    "import matplotlib.pyplot as plt\n",
    "from matplotlib.ticker import EngFormatter\n",
    "bp_formatter = EngFormatter('b') \n",
    "# nice way to format ticks as human-readable: ax.xaxis.set_major_formatter(bp_formatter)\n",
    "import seaborn as sns;sns.set()\n",
    "\n",
    "from hwutils import *"
   ]
  },
  {
   "cell_type": "code",
   "execution_count": 2,
   "id": "96d3a306",
   "metadata": {},
   "outputs": [
    {
     "name": "stderr",
     "output_type": "stream",
     "text": [
      "/var/folders/gh/zry_3rmd11d1swl00yzmgbq80000gn/T/ipykernel_670/1708817607.py:7: DtypeWarning: Columns (20) have mixed types. Specify dtype option on import or set low_memory=False.\n",
      "  bigwig_metadata = pd.read_table('./data/ENCODE_GRCh38_bigWig_metadata.tsv')\n"
     ]
    }
   ],
   "source": [
    "# load dataFrame of bigWigs from ENCODE (encodeproject.org/), binned to 10kb resolution across chromosome 10.\n",
    "# note that the first three columns are chrom,start,end and the other columns are labeled by bigWig file accession.\n",
    "df = pd.read_table('./data/ENCODE_GRCh38_binned_subset.tsv')\n",
    "\n",
    "# load metadata from ENCODE for bigwig files. \n",
    "# can be queried as follows: bigwig_metadata.query(\"`File accession`==@ df_column_name \")\n",
    "bigwig_metadata = pd.read_table('./data/ENCODE_GRCh38_bigWig_metadata.tsv')"
   ]
  },
  {
   "cell_type": "code",
   "execution_count": 3,
   "id": "bb6c4af9",
   "metadata": {
    "scrolled": true
   },
   "outputs": [
    {
     "data": {
      "text/html": [
       "<div>\n",
       "<style scoped>\n",
       "    .dataframe tbody tr th:only-of-type {\n",
       "        vertical-align: middle;\n",
       "    }\n",
       "\n",
       "    .dataframe tbody tr th {\n",
       "        vertical-align: top;\n",
       "    }\n",
       "\n",
       "    .dataframe thead th {\n",
       "        text-align: right;\n",
       "    }\n",
       "</style>\n",
       "<table border=\"1\" class=\"dataframe\">\n",
       "  <thead>\n",
       "    <tr style=\"text-align: right;\">\n",
       "      <th></th>\n",
       "      <th>chrom</th>\n",
       "      <th>start</th>\n",
       "      <th>end</th>\n",
       "      <th>ENCFF230YBR</th>\n",
       "      <th>ENCFF953CVO</th>\n",
       "      <th>ENCFF520IHF</th>\n",
       "      <th>ENCFF730SPR</th>\n",
       "      <th>ENCFF559YWA</th>\n",
       "      <th>ENCFF640PJT</th>\n",
       "      <th>ENCFF919FBG</th>\n",
       "      <th>...</th>\n",
       "      <th>ENCFF418EBS</th>\n",
       "      <th>ENCFF270BHF</th>\n",
       "      <th>ENCFF365EIN</th>\n",
       "      <th>ENCFF321AHD</th>\n",
       "      <th>ENCFF595QZS</th>\n",
       "      <th>ENCFF303MWS</th>\n",
       "      <th>ENCFF907FVJ</th>\n",
       "      <th>ENCFF567WCU</th>\n",
       "      <th>ENCFF423TVA</th>\n",
       "      <th>ENCFF308KWQ</th>\n",
       "    </tr>\n",
       "  </thead>\n",
       "  <tbody>\n",
       "    <tr>\n",
       "      <th>0</th>\n",
       "      <td>chr10</td>\n",
       "      <td>0</td>\n",
       "      <td>10000</td>\n",
       "      <td>0.000000</td>\n",
       "      <td>0.000000</td>\n",
       "      <td>0.000000</td>\n",
       "      <td>0.000000</td>\n",
       "      <td>0.000000</td>\n",
       "      <td>0.000000</td>\n",
       "      <td>0.000000</td>\n",
       "      <td>...</td>\n",
       "      <td>0.000000</td>\n",
       "      <td>0.000000</td>\n",
       "      <td>0.000000</td>\n",
       "      <td>0.000000</td>\n",
       "      <td>0.000000</td>\n",
       "      <td>0.000000</td>\n",
       "      <td>0.000000</td>\n",
       "      <td>0.000000</td>\n",
       "      <td>0.000000</td>\n",
       "      <td>0.0</td>\n",
       "    </tr>\n",
       "    <tr>\n",
       "      <th>1</th>\n",
       "      <td>chr10</td>\n",
       "      <td>10000</td>\n",
       "      <td>20000</td>\n",
       "      <td>0.016585</td>\n",
       "      <td>0.141369</td>\n",
       "      <td>0.000000</td>\n",
       "      <td>0.092070</td>\n",
       "      <td>0.048068</td>\n",
       "      <td>0.006080</td>\n",
       "      <td>0.029362</td>\n",
       "      <td>...</td>\n",
       "      <td>0.074162</td>\n",
       "      <td>0.033137</td>\n",
       "      <td>0.105691</td>\n",
       "      <td>0.000000</td>\n",
       "      <td>0.000000</td>\n",
       "      <td>0.045821</td>\n",
       "      <td>0.034791</td>\n",
       "      <td>0.000000</td>\n",
       "      <td>0.000000</td>\n",
       "      <td>0.0</td>\n",
       "    </tr>\n",
       "    <tr>\n",
       "      <th>2</th>\n",
       "      <td>chr10</td>\n",
       "      <td>20000</td>\n",
       "      <td>30000</td>\n",
       "      <td>0.000000</td>\n",
       "      <td>0.000000</td>\n",
       "      <td>0.000000</td>\n",
       "      <td>0.041850</td>\n",
       "      <td>0.010681</td>\n",
       "      <td>0.000000</td>\n",
       "      <td>0.000000</td>\n",
       "      <td>...</td>\n",
       "      <td>0.018541</td>\n",
       "      <td>0.000000</td>\n",
       "      <td>0.000000</td>\n",
       "      <td>0.000000</td>\n",
       "      <td>0.000000</td>\n",
       "      <td>0.000000</td>\n",
       "      <td>0.000000</td>\n",
       "      <td>0.000000</td>\n",
       "      <td>0.000000</td>\n",
       "      <td>0.0</td>\n",
       "    </tr>\n",
       "    <tr>\n",
       "      <th>3</th>\n",
       "      <td>chr10</td>\n",
       "      <td>30000</td>\n",
       "      <td>40000</td>\n",
       "      <td>0.000000</td>\n",
       "      <td>0.023561</td>\n",
       "      <td>0.000000</td>\n",
       "      <td>0.008370</td>\n",
       "      <td>0.000000</td>\n",
       "      <td>0.000000</td>\n",
       "      <td>0.000000</td>\n",
       "      <td>...</td>\n",
       "      <td>0.000000</td>\n",
       "      <td>0.000000</td>\n",
       "      <td>0.000000</td>\n",
       "      <td>0.000000</td>\n",
       "      <td>0.000000</td>\n",
       "      <td>0.000000</td>\n",
       "      <td>0.000000</td>\n",
       "      <td>0.000000</td>\n",
       "      <td>0.000000</td>\n",
       "      <td>0.0</td>\n",
       "    </tr>\n",
       "    <tr>\n",
       "      <th>4</th>\n",
       "      <td>chr10</td>\n",
       "      <td>40000</td>\n",
       "      <td>50000</td>\n",
       "      <td>0.049756</td>\n",
       "      <td>0.094244</td>\n",
       "      <td>0.052176</td>\n",
       "      <td>0.442616</td>\n",
       "      <td>0.181287</td>\n",
       "      <td>0.009625</td>\n",
       "      <td>0.142758</td>\n",
       "      <td>...</td>\n",
       "      <td>0.055622</td>\n",
       "      <td>0.234655</td>\n",
       "      <td>0.156918</td>\n",
       "      <td>0.072464</td>\n",
       "      <td>0.028221</td>\n",
       "      <td>0.274925</td>\n",
       "      <td>0.138100</td>\n",
       "      <td>0.025495</td>\n",
       "      <td>0.073522</td>\n",
       "      <td>0.0</td>\n",
       "    </tr>\n",
       "  </tbody>\n",
       "</table>\n",
       "<p>5 rows × 203 columns</p>\n",
       "</div>"
      ],
      "text/plain": [
       "   chrom  start    end  ENCFF230YBR  ENCFF953CVO  ENCFF520IHF  ENCFF730SPR  \\\n",
       "0  chr10      0  10000     0.000000     0.000000     0.000000     0.000000   \n",
       "1  chr10  10000  20000     0.016585     0.141369     0.000000     0.092070   \n",
       "2  chr10  20000  30000     0.000000     0.000000     0.000000     0.041850   \n",
       "3  chr10  30000  40000     0.000000     0.023561     0.000000     0.008370   \n",
       "4  chr10  40000  50000     0.049756     0.094244     0.052176     0.442616   \n",
       "\n",
       "   ENCFF559YWA  ENCFF640PJT  ENCFF919FBG  ...  ENCFF418EBS  ENCFF270BHF  \\\n",
       "0     0.000000     0.000000     0.000000  ...     0.000000     0.000000   \n",
       "1     0.048068     0.006080     0.029362  ...     0.074162     0.033137   \n",
       "2     0.010681     0.000000     0.000000  ...     0.018541     0.000000   \n",
       "3     0.000000     0.000000     0.000000  ...     0.000000     0.000000   \n",
       "4     0.181287     0.009625     0.142758  ...     0.055622     0.234655   \n",
       "\n",
       "   ENCFF365EIN  ENCFF321AHD  ENCFF595QZS  ENCFF303MWS  ENCFF907FVJ  \\\n",
       "0     0.000000     0.000000     0.000000     0.000000     0.000000   \n",
       "1     0.105691     0.000000     0.000000     0.045821     0.034791   \n",
       "2     0.000000     0.000000     0.000000     0.000000     0.000000   \n",
       "3     0.000000     0.000000     0.000000     0.000000     0.000000   \n",
       "4     0.156918     0.072464     0.028221     0.274925     0.138100   \n",
       "\n",
       "   ENCFF567WCU  ENCFF423TVA  ENCFF308KWQ  \n",
       "0     0.000000     0.000000          0.0  \n",
       "1     0.000000     0.000000          0.0  \n",
       "2     0.000000     0.000000          0.0  \n",
       "3     0.000000     0.000000          0.0  \n",
       "4     0.025495     0.073522          0.0  \n",
       "\n",
       "[5 rows x 203 columns]"
      ]
     },
     "execution_count": 3,
     "metadata": {},
     "output_type": "execute_result"
    }
   ],
   "source": [
    "df.head()"
   ]
  },
  {
   "cell_type": "code",
   "execution_count": 4,
   "id": "c22ef2be",
   "metadata": {},
   "outputs": [
    {
     "data": {
      "text/html": [
       "<div>\n",
       "<style scoped>\n",
       "    .dataframe tbody tr th:only-of-type {\n",
       "        vertical-align: middle;\n",
       "    }\n",
       "\n",
       "    .dataframe tbody tr th {\n",
       "        vertical-align: top;\n",
       "    }\n",
       "\n",
       "    .dataframe thead th {\n",
       "        text-align: right;\n",
       "    }\n",
       "</style>\n",
       "<table border=\"1\" class=\"dataframe\">\n",
       "  <thead>\n",
       "    <tr style=\"text-align: right;\">\n",
       "      <th></th>\n",
       "      <th>Unnamed: 0</th>\n",
       "      <th>File accession</th>\n",
       "      <th>File format</th>\n",
       "      <th>File type</th>\n",
       "      <th>File format type</th>\n",
       "      <th>Output type</th>\n",
       "      <th>File assembly</th>\n",
       "      <th>Experiment accession</th>\n",
       "      <th>Assay</th>\n",
       "      <th>Donor(s)</th>\n",
       "      <th>...</th>\n",
       "      <th>Genome annotation</th>\n",
       "      <th>Platform</th>\n",
       "      <th>Controlled by</th>\n",
       "      <th>File Status</th>\n",
       "      <th>s3_uri</th>\n",
       "      <th>File analysis title</th>\n",
       "      <th>File analysis status</th>\n",
       "      <th>Audit WARNING</th>\n",
       "      <th>Audit NOT_COMPLIANT</th>\n",
       "      <th>Audit ERROR</th>\n",
       "    </tr>\n",
       "  </thead>\n",
       "  <tbody>\n",
       "    <tr>\n",
       "      <th>0</th>\n",
       "      <td>38</td>\n",
       "      <td>ENCFF298EKM</td>\n",
       "      <td>bigWig</td>\n",
       "      <td>bigWig</td>\n",
       "      <td>NaN</td>\n",
       "      <td>signal p-value</td>\n",
       "      <td>GRCh38</td>\n",
       "      <td>ENCSR000ANO</td>\n",
       "      <td>TF ChIP-seq</td>\n",
       "      <td>/human-donors/ENCDO156MSV/</td>\n",
       "      <td>...</td>\n",
       "      <td>NaN</td>\n",
       "      <td>NaN</td>\n",
       "      <td>NaN</td>\n",
       "      <td>released</td>\n",
       "      <td>s3://encode-public/2017/02/07/7220c4f7-ab3a-43...</td>\n",
       "      <td>ENCODE3 GRCh38</td>\n",
       "      <td>archived</td>\n",
       "      <td>borderline replicate concordance, low read dep...</td>\n",
       "      <td>severe bottlenecking, poor library complexity</td>\n",
       "      <td>extremely low read depth, missing control alig...</td>\n",
       "    </tr>\n",
       "    <tr>\n",
       "      <th>1</th>\n",
       "      <td>39</td>\n",
       "      <td>ENCFF599PYU</td>\n",
       "      <td>bigWig</td>\n",
       "      <td>bigWig</td>\n",
       "      <td>NaN</td>\n",
       "      <td>signal p-value</td>\n",
       "      <td>GRCh38</td>\n",
       "      <td>ENCSR000ANO</td>\n",
       "      <td>TF ChIP-seq</td>\n",
       "      <td>/human-donors/ENCDO269AAA/</td>\n",
       "      <td>...</td>\n",
       "      <td>NaN</td>\n",
       "      <td>NaN</td>\n",
       "      <td>NaN</td>\n",
       "      <td>released</td>\n",
       "      <td>s3://encode-public/2017/02/07/27c489a3-e834-45...</td>\n",
       "      <td>ENCODE3 GRCh38</td>\n",
       "      <td>archived</td>\n",
       "      <td>borderline replicate concordance, low read dep...</td>\n",
       "      <td>severe bottlenecking, poor library complexity</td>\n",
       "      <td>extremely low read depth, missing control alig...</td>\n",
       "    </tr>\n",
       "    <tr>\n",
       "      <th>2</th>\n",
       "      <td>40</td>\n",
       "      <td>ENCFF393FQJ</td>\n",
       "      <td>bigWig</td>\n",
       "      <td>bigWig</td>\n",
       "      <td>NaN</td>\n",
       "      <td>signal p-value</td>\n",
       "      <td>GRCh38</td>\n",
       "      <td>ENCSR000ANO</td>\n",
       "      <td>TF ChIP-seq</td>\n",
       "      <td>/human-donors/ENCDO156MSV/, /human-donors/ENCD...</td>\n",
       "      <td>...</td>\n",
       "      <td>NaN</td>\n",
       "      <td>NaN</td>\n",
       "      <td>NaN</td>\n",
       "      <td>released</td>\n",
       "      <td>s3://encode-public/2017/02/07/86f9d2fb-ca91-40...</td>\n",
       "      <td>ENCODE3 GRCh38</td>\n",
       "      <td>archived</td>\n",
       "      <td>borderline replicate concordance, low read dep...</td>\n",
       "      <td>severe bottlenecking, poor library complexity</td>\n",
       "      <td>extremely low read depth, missing control alig...</td>\n",
       "    </tr>\n",
       "    <tr>\n",
       "      <th>3</th>\n",
       "      <td>41</td>\n",
       "      <td>ENCFF528ORD</td>\n",
       "      <td>bigWig</td>\n",
       "      <td>bigWig</td>\n",
       "      <td>NaN</td>\n",
       "      <td>fold change over control</td>\n",
       "      <td>GRCh38</td>\n",
       "      <td>ENCSR000ANO</td>\n",
       "      <td>TF ChIP-seq</td>\n",
       "      <td>/human-donors/ENCDO269AAA/</td>\n",
       "      <td>...</td>\n",
       "      <td>NaN</td>\n",
       "      <td>NaN</td>\n",
       "      <td>NaN</td>\n",
       "      <td>released</td>\n",
       "      <td>s3://encode-public/2017/02/07/26e29d25-4dae-47...</td>\n",
       "      <td>ENCODE3 GRCh38</td>\n",
       "      <td>archived</td>\n",
       "      <td>borderline replicate concordance, low read dep...</td>\n",
       "      <td>severe bottlenecking, poor library complexity</td>\n",
       "      <td>extremely low read depth, missing control alig...</td>\n",
       "    </tr>\n",
       "    <tr>\n",
       "      <th>4</th>\n",
       "      <td>42</td>\n",
       "      <td>ENCFF911FWI</td>\n",
       "      <td>bigWig</td>\n",
       "      <td>bigWig</td>\n",
       "      <td>NaN</td>\n",
       "      <td>fold change over control</td>\n",
       "      <td>GRCh38</td>\n",
       "      <td>ENCSR000ANO</td>\n",
       "      <td>TF ChIP-seq</td>\n",
       "      <td>/human-donors/ENCDO156MSV/, /human-donors/ENCD...</td>\n",
       "      <td>...</td>\n",
       "      <td>NaN</td>\n",
       "      <td>NaN</td>\n",
       "      <td>NaN</td>\n",
       "      <td>released</td>\n",
       "      <td>s3://encode-public/2017/02/07/450bbbc3-d0ba-45...</td>\n",
       "      <td>ENCODE3 GRCh38</td>\n",
       "      <td>archived</td>\n",
       "      <td>borderline replicate concordance, low read dep...</td>\n",
       "      <td>severe bottlenecking, poor library complexity</td>\n",
       "      <td>extremely low read depth, missing control alig...</td>\n",
       "    </tr>\n",
       "  </tbody>\n",
       "</table>\n",
       "<p>5 rows × 59 columns</p>\n",
       "</div>"
      ],
      "text/plain": [
       "   Unnamed: 0 File accession File format File type  File format type  \\\n",
       "0          38    ENCFF298EKM      bigWig    bigWig               NaN   \n",
       "1          39    ENCFF599PYU      bigWig    bigWig               NaN   \n",
       "2          40    ENCFF393FQJ      bigWig    bigWig               NaN   \n",
       "3          41    ENCFF528ORD      bigWig    bigWig               NaN   \n",
       "4          42    ENCFF911FWI      bigWig    bigWig               NaN   \n",
       "\n",
       "                Output type File assembly Experiment accession        Assay  \\\n",
       "0            signal p-value        GRCh38          ENCSR000ANO  TF ChIP-seq   \n",
       "1            signal p-value        GRCh38          ENCSR000ANO  TF ChIP-seq   \n",
       "2            signal p-value        GRCh38          ENCSR000ANO  TF ChIP-seq   \n",
       "3  fold change over control        GRCh38          ENCSR000ANO  TF ChIP-seq   \n",
       "4  fold change over control        GRCh38          ENCSR000ANO  TF ChIP-seq   \n",
       "\n",
       "                                            Donor(s)  ... Genome annotation  \\\n",
       "0                         /human-donors/ENCDO156MSV/  ...               NaN   \n",
       "1                         /human-donors/ENCDO269AAA/  ...               NaN   \n",
       "2  /human-donors/ENCDO156MSV/, /human-donors/ENCD...  ...               NaN   \n",
       "3                         /human-donors/ENCDO269AAA/  ...               NaN   \n",
       "4  /human-donors/ENCDO156MSV/, /human-donors/ENCD...  ...               NaN   \n",
       "\n",
       "  Platform Controlled by File Status  \\\n",
       "0      NaN           NaN    released   \n",
       "1      NaN           NaN    released   \n",
       "2      NaN           NaN    released   \n",
       "3      NaN           NaN    released   \n",
       "4      NaN           NaN    released   \n",
       "\n",
       "                                              s3_uri File analysis title  \\\n",
       "0  s3://encode-public/2017/02/07/7220c4f7-ab3a-43...      ENCODE3 GRCh38   \n",
       "1  s3://encode-public/2017/02/07/27c489a3-e834-45...      ENCODE3 GRCh38   \n",
       "2  s3://encode-public/2017/02/07/86f9d2fb-ca91-40...      ENCODE3 GRCh38   \n",
       "3  s3://encode-public/2017/02/07/26e29d25-4dae-47...      ENCODE3 GRCh38   \n",
       "4  s3://encode-public/2017/02/07/450bbbc3-d0ba-45...      ENCODE3 GRCh38   \n",
       "\n",
       "  File analysis status                                      Audit WARNING  \\\n",
       "0             archived  borderline replicate concordance, low read dep...   \n",
       "1             archived  borderline replicate concordance, low read dep...   \n",
       "2             archived  borderline replicate concordance, low read dep...   \n",
       "3             archived  borderline replicate concordance, low read dep...   \n",
       "4             archived  borderline replicate concordance, low read dep...   \n",
       "\n",
       "                             Audit NOT_COMPLIANT  \\\n",
       "0  severe bottlenecking, poor library complexity   \n",
       "1  severe bottlenecking, poor library complexity   \n",
       "2  severe bottlenecking, poor library complexity   \n",
       "3  severe bottlenecking, poor library complexity   \n",
       "4  severe bottlenecking, poor library complexity   \n",
       "\n",
       "                                         Audit ERROR  \n",
       "0  extremely low read depth, missing control alig...  \n",
       "1  extremely low read depth, missing control alig...  \n",
       "2  extremely low read depth, missing control alig...  \n",
       "3  extremely low read depth, missing control alig...  \n",
       "4  extremely low read depth, missing control alig...  \n",
       "\n",
       "[5 rows x 59 columns]"
      ]
     },
     "execution_count": 4,
     "metadata": {},
     "output_type": "execute_result"
    }
   ],
   "source": [
    "bigwig_metadata.head()"
   ]
  },
  {
   "cell_type": "markdown",
   "id": "e79dbb9d",
   "metadata": {},
   "source": [
    "**1. After loading the data (above), and visualize some of the profiles. Why might many signals dip on chr10 at around 40Mb?**\n"
   ]
  },
  {
   "cell_type": "code",
   "execution_count": 5,
   "id": "9d529619",
   "metadata": {},
   "outputs": [
    {
     "data": {
      "text/plain": [
       "Text(0, 0.5, 'ENCFF230YBR')"
      ]
     },
     "execution_count": 5,
     "metadata": {},
     "output_type": "execute_result"
    },
    {
     "data": {
      "image/png": "[encoded data removed]",
      "text/plain": [
       "<Figure size 432x288 with 1 Axes>"
      ]
     },
     "metadata": {},
     "output_type": "display_data"
    }
   ],
   "source": [
    "plt.scatter(df.start, df.ENCFF230YBR) \n",
    "plt.xlabel('start position')\n",
    "plt.ylabel('ENCFF230YBR')\n",
    "\n",
    "# prominent dip at around 0.4"
   ]
  },
  {
   "cell_type": "code",
   "execution_count": 6,
   "id": "e63e4fc8",
   "metadata": {},
   "outputs": [
    {
     "data": {
      "text/plain": [
       "Text(0, 0.5, 'ENCFF953CVO')"
      ]
     },
     "execution_count": 6,
     "metadata": {},
     "output_type": "execute_result"
    },
    {
     "data": {
      "image/png": "[encoded data removed]",
      "text/plain": [
       "<Figure size 432x288 with 1 Axes>"
      ]
     },
     "metadata": {},
     "output_type": "display_data"
    }
   ],
   "source": [
    "plt.scatter(df.start, df.ENCFF953CVO) \n",
    "plt.xlabel('start position')\n",
    "plt.ylabel('ENCFF953CVO')"
   ]
  },
  {
   "cell_type": "code",
   "execution_count": 7,
   "id": "014e1c92",
   "metadata": {},
   "outputs": [
    {
     "data": {
      "text/plain": [
       "Text(0, 0.5, 'ENCFF520IHF')"
      ]
     },
     "execution_count": 7,
     "metadata": {},
     "output_type": "execute_result"
    },
    {
     "data": {
      "image/png": "[encoded data removed]",
      "text/plain": [
       "<Figure size 432x288 with 1 Axes>"
      ]
     },
     "metadata": {},
     "output_type": "display_data"
    }
   ],
   "source": [
    "plt.scatter(df.start, df.ENCFF520IHF) \n",
    "plt.xlabel('start position')\n",
    "plt.ylabel('ENCFF520IHF')"
   ]
  },
  {
   "cell_type": "code",
   "execution_count": 8,
   "id": "f30b22c9",
   "metadata": {},
   "outputs": [
    {
     "data": {
      "text/plain": [
       "Text(0, 0.5, 'ENCFF520IHF')"
      ]
     },
     "execution_count": 8,
     "metadata": {},
     "output_type": "execute_result"
    },
    {
     "data": {
      "image/png": "[encoded data removed]",
      "text/plain": [
       "<Figure size 432x288 with 1 Axes>"
      ]
     },
     "metadata": {},
     "output_type": "display_data"
    }
   ],
   "source": [
    "plt.scatter(df.start, df.ENCFF520IHF) \n",
    "plt.xlabel('start position')\n",
    "plt.ylabel('ENCFF520IHF')"
   ]
  },
  {
   "cell_type": "markdown",
   "id": "a9553e25",
   "metadata": {},
   "source": [
    "#### Q1 Answer: \n",
    "In each of these plots we can see a dip at around 40Mb. This could be an indicator that the centromer is located at approximately 40Mb. After looking this up (https://en.wikipedia.org/wiki/Chromosome_10), we see that the centromere's position in chromosome 10 is indeed at 39.8 Mbp, explaining the dip in signal."
   ]
  },
  {
   "cell_type": "markdown",
   "id": "7665686e",
   "metadata": {},
   "source": [
    "**2. Use scikit-learn to perform PCA, and make a scatterplot of PC1 vs PC2.**\n"
   ]
  },
  {
   "cell_type": "code",
   "execution_count": 9,
   "id": "b119e552",
   "metadata": {},
   "outputs": [
    {
     "data": {
      "text/plain": [
       "PCA(n_components=2)"
      ]
     },
     "execution_count": 9,
     "metadata": {},
     "output_type": "execute_result"
    }
   ],
   "source": [
    "from sklearn.decomposition import PCA\n",
    "pca = PCA(n_components=2)\n",
    "x=df.iloc[:,3:]\n",
    "pca.fit(x)"
   ]
  },
  {
   "cell_type": "code",
   "execution_count": 10,
   "id": "eb6a31cb",
   "metadata": {},
   "outputs": [],
   "source": [
    "X_pca = pca.transform(x)"
   ]
  },
  {
   "cell_type": "code",
   "execution_count": 11,
   "id": "1a9aba6b",
   "metadata": {},
   "outputs": [
    {
     "name": "stdout",
     "output_type": "stream",
     "text": [
      "(13380, 2)\n"
     ]
    }
   ],
   "source": [
    "projected = pca.fit_transform(x)\n",
    "print(projected.shape)"
   ]
  },
  {
   "cell_type": "code",
   "execution_count": 12,
   "id": "5fc64faa",
   "metadata": {},
   "outputs": [
    {
     "name": "stderr",
     "output_type": "stream",
     "text": [
      "/var/folders/gh/zry_3rmd11d1swl00yzmgbq80000gn/T/ipykernel_670/3539008793.py:5: MatplotlibDeprecationWarning: Auto-removal of grids by pcolor() and pcolormesh() is deprecated since 3.5 and will be removed two minor releases later; please call grid(False) first.\n",
      "  plt.colorbar();\n"
     ]
    },
    {
     "data": {
      "image/png": "[encoded data removed]",
      "text/plain": [
       "<Figure size 432x288 with 2 Axes>"
      ]
     },
     "metadata": {},
     "output_type": "display_data"
    }
   ],
   "source": [
    "plt.scatter(projected[:, 0], projected[:, 1],\n",
    "            c=df.start, edgecolor='none', alpha=0.5)\n",
    "plt.xlabel('component 1')\n",
    "plt.ylabel('component 2')\n",
    "plt.colorbar();"
   ]
  },
  {
   "cell_type": "code",
   "execution_count": 13,
   "id": "f9ad2d83",
   "metadata": {},
   "outputs": [
    {
     "data": {
      "image/png": "[encoded data removed]",
      "text/plain": [
       "<Figure size 576x576 with 1 Axes>"
      ]
     },
     "metadata": {},
     "output_type": "display_data"
    }
   ],
   "source": [
    "plot_pca(pca)"
   ]
  },
  {
   "cell_type": "markdown",
   "id": "e856f8f8",
   "metadata": {},
   "source": [
    "**3. Try to use the experiment metadata to understand and remove outliers. Try labeling or coloring points by various metadata columns. Were any columns in the metadata useful for outlier removal? Note that `sklearn.preprocessing.LabelEncoder()` can be useful for transforming text strings to categories, and `plt.text` can be used to overlay labels with points.**"
   ]
  },
  {
   "cell_type": "code",
   "execution_count": 14,
   "id": "9c059b6a",
   "metadata": {},
   "outputs": [
    {
     "data": {
      "image/png": "[encoded data removed]",
      "text/plain": [
       "<Figure size 576x576 with 1 Axes>"
      ]
     },
     "metadata": {},
     "output_type": "display_data"
    }
   ],
   "source": [
    "plot_pca(pca,bigwig_metadata=bigwig_metadata)"
   ]
  },
  {
   "cell_type": "code",
   "execution_count": 15,
   "id": "5e9633ee",
   "metadata": {
    "scrolled": false
   },
   "outputs": [
    {
     "data": {
      "text/plain": [
       "Index(['Unnamed: 0', 'File accession', 'File format', 'File type',\n",
       "       'File format type', 'Output type', 'File assembly',\n",
       "       'Experiment accession', 'Assay', 'Donor(s)', 'Biosample term id',\n",
       "       'Biosample term name', 'Biosample type', 'Biosample organism',\n",
       "       'Biosample treatments', 'Biosample treatments amount',\n",
       "       'Biosample treatments duration',\n",
       "       'Biosample genetic modifications methods',\n",
       "       'Biosample genetic modifications categories',\n",
       "       'Biosample genetic modifications targets',\n",
       "       'Biosample genetic modifications gene targets',\n",
       "       'Biosample genetic modifications site coordinates',\n",
       "       'Biosample genetic modifications zygosity', 'Experiment target',\n",
       "       'Library made from', 'Library depleted in', 'Library extraction method',\n",
       "       'Library lysis method', 'Library crosslinking method',\n",
       "       'Library strand specific', 'Experiment date released', 'Project',\n",
       "       'RBNS protein concentration', 'Library fragmentation method',\n",
       "       'Library size range', 'Biological replicate(s)',\n",
       "       'Technical replicate(s)', 'Read length', 'Mapped read length',\n",
       "       'Run type', 'Paired end', 'Paired with', 'Index of', 'Derived from',\n",
       "       'Size', 'Lab', 'md5sum', 'dbxrefs', 'File download URL',\n",
       "       'Genome annotation', 'Platform', 'Controlled by', 'File Status',\n",
       "       's3_uri', 'File analysis title', 'File analysis status',\n",
       "       'Audit WARNING', 'Audit NOT_COMPLIANT', 'Audit ERROR'],\n",
       "      dtype='object')"
      ]
     },
     "execution_count": 15,
     "metadata": {},
     "output_type": "execute_result"
    }
   ],
   "source": [
    "# Column names for reference\n",
    "bigwig_metadata.columns"
   ]
  },
  {
   "cell_type": "code",
   "execution_count": 16,
   "id": "a597001e",
   "metadata": {},
   "outputs": [
    {
     "data": {
      "image/png": "[encoded data removed]",
      "text/plain": [
       "<Figure size 576x576 with 1 Axes>"
      ]
     },
     "metadata": {},
     "output_type": "display_data"
    }
   ],
   "source": [
    "plot_pca(pca,bigwig_metadata=bigwig_metadata,metadata_label_column=\"Biosample type\",alpha=1)"
   ]
  },
  {
   "cell_type": "code",
   "execution_count": 17,
   "id": "5fab0d3e",
   "metadata": {},
   "outputs": [
    {
     "data": {
      "image/png": "[encoded data removed]",
      "text/plain": [
       "<Figure size 576x576 with 1 Axes>"
      ]
     },
     "metadata": {},
     "output_type": "display_data"
    }
   ],
   "source": [
    "plot_pca(pca,bigwig_metadata=bigwig_metadata,metadata_label_column=\"Biosample treatments\",alpha=1)"
   ]
  },
  {
   "cell_type": "code",
   "execution_count": null,
   "id": "fcb82690",
   "metadata": {
    "scrolled": false
   },
   "outputs": [],
   "source": [
    "plot_pca(pca,bigwig_metadata=bigwig_metadata,metadata_label_column=\"Donor(s)\",alpha=1)"
   ]
  },
  {
   "cell_type": "code",
   "execution_count": null,
   "id": "402f4a41",
   "metadata": {},
   "outputs": [],
   "source": [
    "plot_pca(pca,bigwig_metadata=bigwig_metadata,metadata_label_column=\"Assay\",alpha=1)"
   ]
  },
  {
   "cell_type": "code",
   "execution_count": null,
   "id": "0b50e242",
   "metadata": {
    "scrolled": false
   },
   "outputs": [],
   "source": [
    "plot_pca(pca,bigwig_metadata=bigwig_metadata,metadata_label_column=\"Experiment target\",alpha=1)"
   ]
  },
  {
   "cell_type": "code",
   "execution_count": null,
   "id": "c3b705da",
   "metadata": {},
   "outputs": [],
   "source": [
    "plot_pca(pca,bigwig_metadata=bigwig_metadata,metadata_label_column=\"Audit NOT_COMPLIANT\",alpha=1)"
   ]
  },
  {
   "cell_type": "code",
   "execution_count": null,
   "id": "26084f73",
   "metadata": {},
   "outputs": [],
   "source": [
    "plot_pca(pca,bigwig_metadata=bigwig_metadata,metadata_label_column=\"Output type\",alpha=1)"
   ]
  },
  {
   "cell_type": "code",
   "execution_count": null,
   "id": "118d1538",
   "metadata": {},
   "outputs": [],
   "source": [
    "plot_pca(pca,bigwig_metadata=bigwig_metadata,metadata_label_column=\"Audit ERROR\",alpha=1)"
   ]
  },
  {
   "cell_type": "markdown",
   "id": "32d7be3b",
   "metadata": {},
   "source": [
    "#### Q3 Answer:\n",
    "Based on the plots above, we find that \"Audit ERROR\" is a good column to use for outlier removal. We consider the outliers to be the group at the very top of the plot.\n",
    "\n",
    "We can remove outliers by dropping all the experiments were \"Audit ERROR\" = \"control extremely low read depth, extremely low read depth, missing control alignments\"\n",
    "\n",
    "This is done below."
   ]
  },
  {
   "cell_type": "code",
   "execution_count": null,
   "id": "dba3828a",
   "metadata": {
    "scrolled": true
   },
   "outputs": [],
   "source": [
    "# Filter out items in metadata that are not in df\n",
    "filtered_bigwig_metadata=bigwig_metadata[bigwig_metadata[\"File accession\"].isin(df.columns[3:])]\n",
    "filtered_bigwig_metadata"
   ]
  },
  {
   "cell_type": "code",
   "execution_count": null,
   "id": "0d57d91a",
   "metadata": {},
   "outputs": [],
   "source": [
    "# What are our outliers based on \"Audit ERROR\" column\n",
    "outliers_df = filtered_bigwig_metadata.loc[filtered_bigwig_metadata[\"Audit ERROR\"] == \"control extremely low read depth, extremely low read depth, missing control alignments\"]\n",
    "outlier_accessions = outliers_df[\"File accession\"].values.tolist()\n",
    "\n",
    "# How many outliers?\n",
    "len(outlier_accessions)"
   ]
  },
  {
   "cell_type": "code",
   "execution_count": null,
   "id": "2d8b75d9",
   "metadata": {},
   "outputs": [],
   "source": [
    "outlier_accessions"
   ]
  },
  {
   "cell_type": "code",
   "execution_count": null,
   "id": "0ffe1888",
   "metadata": {},
   "outputs": [],
   "source": [
    "# Length of df\n",
    "len(df.columns)"
   ]
  },
  {
   "cell_type": "code",
   "execution_count": null,
   "id": "a2f55ef0",
   "metadata": {},
   "outputs": [],
   "source": [
    "# Filter df by outliers\n",
    "filtered_df = df.drop(outlier_accessions, axis=1)\n",
    "\n",
    "# Length of filtered df\n",
    "# We expect this to be 197 (203-6)\n",
    "len(filtered_df.columns)"
   ]
  },
  {
   "cell_type": "code",
   "execution_count": null,
   "id": "8d1f35df",
   "metadata": {},
   "outputs": [],
   "source": [
    "filtered_df"
   ]
  },
  {
   "cell_type": "code",
   "execution_count": null,
   "id": "d0dba7da",
   "metadata": {},
   "outputs": [],
   "source": [
    "# Length of filtered metadata before outlier removal\n",
    "len(filtered_bigwig_metadata)"
   ]
  },
  {
   "cell_type": "code",
   "execution_count": null,
   "id": "d2ae5507",
   "metadata": {},
   "outputs": [],
   "source": [
    "# Remove outliers based on \"Audit ERROR column\"\n",
    "filtered_bigwig_metadata = filtered_bigwig_metadata.drop(filtered_bigwig_metadata.index[filtered_bigwig_metadata[\"Audit ERROR\"] ==  'control extremely low read depth, extremely low read depth, missing control alignments'])\n",
    "\n",
    "# Length of filtered metadata after outlier removal\n",
    "# We expect this to be 194 (200-6)\n",
    "len(filtered_bigwig_metadata)"
   ]
  },
  {
   "cell_type": "code",
   "execution_count": null,
   "id": "e312cc33",
   "metadata": {},
   "outputs": [],
   "source": [
    "# Look at our updated plot\n",
    "pca = PCA(n_components=2)\n",
    "x=filtered_df.iloc[:,3:]\n",
    "pca.fit(x)"
   ]
  },
  {
   "cell_type": "code",
   "execution_count": null,
   "id": "cc5415e2",
   "metadata": {},
   "outputs": [],
   "source": [
    "plot_pca(pca,bigwig_metadata=filtered_bigwig_metadata,metadata_label_column=\"Audit ERROR\",alpha=1)"
   ]
  },
  {
   "cell_type": "markdown",
   "id": "18672051",
   "metadata": {},
   "source": [
    "We can see that the plot has changed after removing the outliers based on \"Audit Error\". We can also see that we sucessfully removed the outliers, because the label doesn't show up in the legend. "
   ]
  },
  {
   "cell_type": "markdown",
   "id": "536ee6e7",
   "metadata": {},
   "source": [
    "**4. Which Assays or Experiment Targets show broad vs narrow patterns? Is this consistent across cell types? Does this relate to the patterns seen in PCA? One way to investigate the characteristic scale is by computing the autocorrelation.**\n"
   ]
  },
  {
   "cell_type": "code",
   "execution_count": null,
   "id": "d0c61c2b",
   "metadata": {},
   "outputs": [],
   "source": [
    "# We'll use assays for this question\n",
    "# How many assays do we have?\n",
    "filtered_bigwig_metadata[\"Assay\"].unique()"
   ]
  },
  {
   "cell_type": "code",
   "execution_count": null,
   "id": "f333bc1b",
   "metadata": {},
   "outputs": [],
   "source": [
    "filtered_df"
   ]
  },
  {
   "cell_type": "markdown",
   "id": "150e32d5",
   "metadata": {},
   "source": [
    "## TF ChIP-seq"
   ]
  },
  {
   "cell_type": "code",
   "execution_count": null,
   "id": "441b6ef6",
   "metadata": {},
   "outputs": [],
   "source": [
    "#get chipseq experiments\n",
    "tfchipseq=filtered_bigwig_metadata.loc[(filtered_bigwig_metadata[\"Assay\"]==\"TF ChIP-seq\")]\n",
    "pd.set_option('display.max_rows', 50)\n",
    "pd.set_option('display.max_rows', 500)\n",
    "tfchipseq[['File accession','Biosample term name']]"
   ]
  },
  {
   "cell_type": "code",
   "execution_count": null,
   "id": "c254193a",
   "metadata": {},
   "outputs": [],
   "source": [
    "plt.plot(filtered_df.start, filtered_df.ENCFF528ORD,label = \"ENCFF528ORD\") \n",
    "plt.plot(filtered_df.start, filtered_df.ENCFF073PAC,label = \"ENCFF073PAC\") \n",
    "plt.plot(filtered_df.start, filtered_df.ENCFF640RNH,label = \"ENCFF640RNH\")\n",
    "plt.plot(filtered_df.start, filtered_df.ENCFF107LDM,label = \"ENCFF107LDM\") \n",
    "plt.plot(filtered_df.start, filtered_df.ENCFF312UWU,label = \"ENCFF312UWU\") \n",
    "plt.legend(loc='center left', bbox_to_anchor=(1, 0.5))\n",
    "plt.title(\"TF ChIP-seq\")\n",
    "plt.show()"
   ]
  },
  {
   "cell_type": "code",
   "execution_count": null,
   "id": "caf63aa0",
   "metadata": {},
   "outputs": [],
   "source": [
    "plt.plot(filtered_df.start, filtered_df.ENCFF773THK, label = \"ENCFF773THK\") \n",
    "plt.plot(filtered_df.start, filtered_df.ENCFF418EBS, label = \"ENCFF418EBS\") \n",
    "plt.plot(filtered_df.start, filtered_df.ENCFF035DJL, label = \"ENCFF035DJL\")\n",
    "plt.plot(filtered_df.start, filtered_df.ENCFF031CXE, label = \"ENCFF031CXE\") \n",
    "plt.plot(filtered_df.start, filtered_df.ENCFF156RFW, label = \"ENCFF156RFW\") \n",
    "plt.legend(loc='center left', bbox_to_anchor=(1, 0.5))\n",
    "plt.title(\"TF ChIP-seq - B-cell\")\n",
    "plt.show()"
   ]
  },
  {
   "cell_type": "code",
   "execution_count": null,
   "id": "302c8756",
   "metadata": {},
   "outputs": [],
   "source": [
    "plt.plot(filtered_df.start, filtered_df.ENCFF528ORD, label = \"ENCFF528ORD\") \n",
    "plt.plot(filtered_df.start, filtered_df.ENCFF911FWI, label = \"ENCFF911FWI\") \n",
    "plt.plot(filtered_df.start, filtered_df.ENCFF567WCU, label = \"ENCFF567WCU\")\n",
    "plt.plot(filtered_df.start, filtered_df.ENCFF303ENB, label = \"ENCFF303ENB\") \n",
    "plt.plot(filtered_df.start, filtered_df.ENCFF953CVO, label = \"ENCFF953CVO\") \n",
    "plt.legend(loc='center left', bbox_to_anchor=(1, 0.5))\n",
    "plt.title(\"TF ChIP-seq - fibroblast of lung\")\n",
    "plt.show()"
   ]
  },
  {
   "cell_type": "markdown",
   "id": "690eddfc",
   "metadata": {},
   "source": [
    "## Histone ChIP-seq"
   ]
  },
  {
   "cell_type": "code",
   "execution_count": null,
   "id": "db87c924",
   "metadata": {},
   "outputs": [],
   "source": [
    "plt.plot(filtered_df.start, filtered_df.ENCFF781ZDY, label = \"ENCFF781ZDY\") \n",
    "plt.plot(filtered_df.start, filtered_df.ENCFF439PJT, label = \"ENCFF439PJT\") \n",
    "plt.plot(filtered_df.start, filtered_df.ENCFF419LKB, label = \"ENCFF419LKB\")\n",
    "plt.plot(filtered_df.start, filtered_df.ENCFF921YAQ, label = \"ENCFF921YAQ\") \n",
    "plt.plot(filtered_df.start, filtered_df.ENCFF037ACM,label = \"ENCFF037ACM\") \n",
    "plt.legend(loc='center left', bbox_to_anchor=(1, 0.5))\n",
    "plt.title(\"Histone ChIP-seq\")\n",
    "plt.show()"
   ]
  },
  {
   "cell_type": "code",
   "execution_count": null,
   "id": "1148d959",
   "metadata": {
    "scrolled": true
   },
   "outputs": [],
   "source": [
    "#get histone chipseq experiments\n",
    "histonechipseq = filtered_bigwig_metadata[filtered_bigwig_metadata['Assay'] == 'Histone ChIP-seq']\n",
    "histonechipseq[['File accession','Biosample term name']]"
   ]
  },
  {
   "cell_type": "code",
   "execution_count": null,
   "id": "97323484",
   "metadata": {},
   "outputs": [],
   "source": [
    "plt.plot(filtered_df.start, filtered_df.ENCFF684QGK, label = \"ENCFF684QGK\") \n",
    "plt.plot(filtered_df.start, filtered_df.ENCFF308KWQ, label = \"ENCFF308KWQ\") \n",
    "plt.plot(filtered_df.start, filtered_df.ENCFF747NOD, label = \"ENCFF747NOD\")\n",
    "plt.plot(filtered_df.start, filtered_df.ENCFF259YWQ, label = \"ENCFF259YWQ\") \n",
    "plt.plot(filtered_df.start, filtered_df.ENCFF006GYH, label = \"ENCFF006GYH\") \n",
    "plt.legend(loc='center left', bbox_to_anchor=(1, 0.5))\n",
    "plt.title(\"Histone ChIP-seq - fibroblast of dermis\")\n",
    "plt.show()"
   ]
  },
  {
   "cell_type": "code",
   "execution_count": null,
   "id": "87a1d79d",
   "metadata": {},
   "outputs": [],
   "source": [
    "plt.plot(filtered_df.start, filtered_df.ENCFF096QYY, label = \"ENCFF096QYY\") \n",
    "plt.plot(filtered_df.start, filtered_df.ENCFF270BHF, label = \"ENCFF270BHF\") \n",
    "plt.plot(filtered_df.start, filtered_df.ENCFF419LKB, label = \"ENCFF419LKB\")\n",
    "plt.plot(filtered_df.start, filtered_df.ENCFF730DGP, label = \"ENCFF730DGP\") \n",
    "plt.plot(filtered_df.start, filtered_df.ENCFF278HYJ, label = \"ENCFF278HYJ\") \n",
    "plt.legend(loc='center left', bbox_to_anchor=(1, 0.5))\n",
    "plt.title(\"Histone ChIP-seq - mesenchymal stem cell\")\n",
    "plt.show()"
   ]
  },
  {
   "cell_type": "code",
   "execution_count": null,
   "id": "3823e240",
   "metadata": {},
   "outputs": [],
   "source": [
    "#get histone chipseq experiments\n",
    "atacseq = filtered_bigwig_metadata[filtered_bigwig_metadata['Assay'] == 'ATAC-seq']\n",
    "atacseq['File accession'].tolist()"
   ]
  },
  {
   "cell_type": "code",
   "execution_count": null,
   "id": "22c39068",
   "metadata": {},
   "outputs": [],
   "source": [
    "plt.plot(filtered_df.start, filtered_df.ENCFF890LTR,label = \"ENCFF890LTR\") \n",
    "plt.legend(loc='center left', bbox_to_anchor=(1, 0.5))\n",
    "plt.title(\"ATAC-seq\")\n",
    "plt.show()"
   ]
  },
  {
   "cell_type": "code",
   "execution_count": null,
   "id": "92596948",
   "metadata": {},
   "outputs": [],
   "source": [
    "plt.plot(filtered_df.start, filtered_df.ENCFF890LTR,label = \"ATAC-seq\") \n",
    "plt.plot(filtered_df.start, filtered_df.ENCFF528ORD,label = \"TF ChIP-seq\") \n",
    "plt.plot(filtered_df.start, filtered_df.ENCFF419LKB,label = \"Histone ChIP-seq\")\n",
    "plt.legend()\n",
    "plt.show()"
   ]
  },
  {
   "cell_type": "code",
   "execution_count": null,
   "id": "1c1d3641",
   "metadata": {},
   "outputs": [],
   "source": [
    "def autocorr(x):\n",
    "    result = np.correlate(x, x, mode='full')\n",
    "    return result[result.size // 2:]"
   ]
  },
  {
   "cell_type": "code",
   "execution_count": null,
   "id": "f70e4fc2",
   "metadata": {},
   "outputs": [],
   "source": [
    "def autocorr_name(experiment, assay, color, axes=None):\n",
    "    x = filtered_df[experiment].tolist()\n",
    "    z = autocorr(x)\n",
    "\n",
    "    # Evolution of the name.\n",
    "    axes[0].plot(filtered_df.start, x, '-o' + color,\n",
    "                 label=experiment)\n",
    "    axes[0].set_title(\"experiment1\")\n",
    "    axes[0].legend()\n",
    "\n",
    "    # Autocorrelation.\n",
    "    axes[1].plot(z / float(z.max()),\n",
    "                 '-' + color, label=experiment)\n",
    "    axes[1].legend()\n",
    "    axes[1].set_title(assay)"
   ]
  },
  {
   "cell_type": "code",
   "execution_count": null,
   "id": "70ac566c",
   "metadata": {},
   "outputs": [],
   "source": [
    "fig, axes = plt.subplots(1, 2, figsize=(12, 4))\n",
    "autocorr_name('ENCFF781ZDY', 'Histone ChIP-seq Autocorrelation', 'k', axes=axes)\n",
    "autocorr_name('ENCFF439PJT', 'Histone ChIP-seq Autocorrelation', 'y', axes=axes)\n",
    "autocorr_name('ENCFF419LKB', 'Histone ChIP-seq Autocorrelation', 'r', axes=axes)\n",
    "autocorr_name('ENCFF921YAQ', 'Histone ChIP-seq Autocorrelation', 'b', axes=axes)\n",
    "autocorr_name('ENCFF037ACM', 'Histone ChIP-seq Autocorrelation', 'm', axes=axes)"
   ]
  },
  {
   "cell_type": "code",
   "execution_count": null,
   "id": "f0c7db4a",
   "metadata": {},
   "outputs": [],
   "source": [
    "fig, axes = plt.subplots(1, 2, figsize=(12, 4))\n",
    "autocorr_name('ENCFF528ORD', 'TF ChIP-seq Autocorrelation', 'k', axes=axes)\n",
    "autocorr_name('ENCFF073PAC', 'TF ChIP-seq Autocorrelation', 'y', axes=axes)\n",
    "autocorr_name('ENCFF640RNH', 'TF ChIP-seq Autocorrelation', 'r', axes=axes)\n",
    "autocorr_name('ENCFF107LDM', 'TF ChIP-seq Autocorrelation', 'b', axes=axes)\n",
    "autocorr_name('ENCFF312UWU', 'TF ChIP-seq Autocorrelation', 'm', axes=axes)"
   ]
  },
  {
   "cell_type": "markdown",
   "id": "6dc095bf",
   "metadata": {},
   "source": [
    "#### Q4 Answer:\n",
    "**Which Assays or Experiment Targets show broad vs narrow patterns?**\n",
    "Looking at the different Assays we can see that Histone ChIP-seq has broader patterns than TF ChIP-seq. We only have one sample for ATAC-seq so we cannot say anything about that assay.\n",
    "\n",
    "**Is this consistent across cell types?**\n",
    "When we looked at differnet cell types within assays we observed that the patterns were very similar for both Histone ChIP-seq and TF ChIP-seq, so it seems to be consistent across cell types.\n",
    "\n",
    "**Does this relate to the patterns seen in PCA? One way to investigate the characteristic scale is by computing the autocorrelation.**\n",
    "If we look at the PCA labaled by Assay the Histone ChIP-seq is not as concentrated in one place which makes sense looking at the broader pattern it displays in signal to. We see these same patterns in the autocorrelation plot."
   ]
  },
  {
   "cell_type": "code",
   "execution_count": null,
   "id": "53357ebf",
   "metadata": {},
   "outputs": [],
   "source": []
  },
  {
   "cell_type": "markdown",
   "id": "ce6d27b4",
   "metadata": {},
   "source": [
    "**5. Which \"Experiment Targets\" (e.g. histone marks or transcription factors) for which cell types are nearby in this PC1 vs PC2 space? Do any of these proximities have plausible biological interpretations? For example, are any polycomb-related factors in proximity? Illustrate this in a plot.**\n"
   ]
  },
  {
   "cell_type": "code",
   "execution_count": null,
   "id": "9f659aaf",
   "metadata": {},
   "outputs": [],
   "source": [
    "bigwig_metadata.head()"
   ]
  },
  {
   "cell_type": "code",
   "execution_count": null,
   "id": "98d83c48",
   "metadata": {},
   "outputs": [],
   "source": [
    "#Adding a new column that combines experiment targets and cell type in the filtered_bigwig_metadata\n",
    "filtered_bigwig_metadata[\"cell_type_target\"] = filtered_bigwig_metadata[\"Biosample term name\"].astype(str) +\"-\"+ filtered_bigwig_metadata[\"Experiment target\"]"
   ]
  },
  {
   "cell_type": "code",
   "execution_count": null,
   "id": "79fa5298",
   "metadata": {},
   "outputs": [],
   "source": []
  },
  {
   "cell_type": "code",
   "execution_count": null,
   "id": "fd575210",
   "metadata": {},
   "outputs": [],
   "source": []
  },
  {
   "cell_type": "code",
   "execution_count": null,
   "id": "cd06fc27",
   "metadata": {},
   "outputs": [],
   "source": []
  },
  {
   "cell_type": "code",
   "execution_count": null,
   "id": "d5d59486",
   "metadata": {},
   "outputs": [],
   "source": []
  },
  {
   "cell_type": "code",
   "execution_count": null,
   "id": "40864ca4",
   "metadata": {},
   "outputs": [],
   "source": []
  },
  {
   "cell_type": "code",
   "execution_count": null,
   "id": "b1dfda98",
   "metadata": {},
   "outputs": [],
   "source": [
    "plot_pca(pca,bigwig_metadata=bigwig_metadata,metadata_label_column=\"Experiment target\")"
   ]
  },
  {
   "cell_type": "code",
   "execution_count": null,
   "id": "b36cde1c",
   "metadata": {},
   "outputs": [],
   "source": []
  },
  {
   "cell_type": "markdown",
   "id": "ea52dd6e",
   "metadata": {},
   "source": [
    "**6. How much does preprocessing matter? Try normalizing the variance per track and see if you arrive at similar or distinct conclusions. Try removing the region on chr10 mentioned above. Note that `sklearn.preprocessing.StandardScaler` could be useful for preprocessing.**\n"
   ]
  },
  {
   "cell_type": "code",
   "execution_count": null,
   "id": "82708d28",
   "metadata": {},
   "outputs": [],
   "source": []
  },
  {
   "cell_type": "code",
   "execution_count": null,
   "id": "9e0c577e",
   "metadata": {},
   "outputs": [],
   "source": []
  },
  {
   "cell_type": "code",
   "execution_count": null,
   "id": "0e8475dc",
   "metadata": {},
   "outputs": [],
   "source": [
    "from sklearn.preprocessing import StandardScaler\n",
    "scaler = StandardScaler()\n",
    "scaler.fit(x)"
   ]
  },
  {
   "cell_type": "code",
   "execution_count": null,
   "id": "d9258716",
   "metadata": {},
   "outputs": [],
   "source": [
    "scale_x=scaler.transform(x)"
   ]
  },
  {
   "cell_type": "code",
   "execution_count": null,
   "id": "2cd462da",
   "metadata": {},
   "outputs": [],
   "source": [
    "scale_projected = scaler.fit_transform(x)\n",
    "print(scale_projected.shape)"
   ]
  },
  {
   "cell_type": "code",
   "execution_count": null,
   "id": "d78e4fad",
   "metadata": {},
   "outputs": [],
   "source": [
    "plt.scatter(scale_projected[:, 0], scale_projected[:, 1],\n",
    "            c=df.start, edgecolor='none', alpha=0.5)\n",
    "plt.xlabel('component 1')\n",
    "plt.ylabel('component 2')\n",
    "plt.colorbar();"
   ]
  },
  {
   "cell_type": "code",
   "execution_count": null,
   "id": "7505fc03",
   "metadata": {},
   "outputs": [],
   "source": [
    "#plot_pca(scale_x)"
   ]
  },
  {
   "cell_type": "code",
   "execution_count": null,
   "id": "78649b72",
   "metadata": {},
   "outputs": [],
   "source": [
    "from pandas import DataFrame\n",
    "normalized_df=DataFrame(scale_projected)"
   ]
  },
  {
   "cell_type": "code",
   "execution_count": null,
   "id": "156d3c6c",
   "metadata": {},
   "outputs": [],
   "source": [
    "normalized_df.columns = x.columns"
   ]
  },
  {
   "cell_type": "code",
   "execution_count": null,
   "id": "6b77e8c9",
   "metadata": {},
   "outputs": [],
   "source": [
    "normalized_df[\"start\"]=df.start\n",
    "normalized_df[\"end\"]=df.end"
   ]
  },
  {
   "cell_type": "code",
   "execution_count": null,
   "id": "f21add61",
   "metadata": {},
   "outputs": [],
   "source": [
    "plt.scatter(df.start, df.ENCFF230YBR) \n",
    "plt.xlabel('start position')\n",
    "plt.ylabel('ENCFF230YBR')"
   ]
  },
  {
   "cell_type": "code",
   "execution_count": null,
   "id": "5689db1a",
   "metadata": {},
   "outputs": [],
   "source": [
    "plt.scatter(normalized_df.start, normalized_df.ENCFF230YBR) \n",
    "plt.xlabel('start position')\n",
    "plt.ylabel('ENCFF230YBR')\n"
   ]
  },
  {
   "cell_type": "code",
   "execution_count": null,
   "id": "bfc14637",
   "metadata": {},
   "outputs": [],
   "source": []
  },
  {
   "cell_type": "code",
   "execution_count": null,
   "id": "14fee59c",
   "metadata": {},
   "outputs": [],
   "source": []
  },
  {
   "cell_type": "code",
   "execution_count": null,
   "id": "11b6fd41",
   "metadata": {},
   "outputs": [],
   "source": []
  },
  {
   "cell_type": "markdown",
   "id": "b7b52fd3",
   "metadata": {},
   "source": [
    "**7. How many PCs are needed to explain 90% of the variance in the data? Illustrate this with a scree plot (https://en.wikipedia.org/wiki/Scree_plot).**\n"
   ]
  },
  {
   "cell_type": "code",
   "execution_count": null,
   "id": "c88b85dc",
   "metadata": {},
   "outputs": [],
   "source": [
    "from sklearn.decomposition import PCA\n",
    "pca = PCA()\n",
    "x=filtered_df.iloc[:,3:]\n",
    "x_pca = pca.fit_transform(x)"
   ]
  },
  {
   "cell_type": "code",
   "execution_count": null,
   "id": "80a55c46",
   "metadata": {},
   "outputs": [],
   "source": [
    "# Method from class\n",
    "plt.plot(np.cumsum(pca.explained_variance_ratio_))\n",
    "plt.xlabel('number of components')\n",
    "plt.ylabel('cumulative explained variance');"
   ]
  },
  {
   "cell_type": "code",
   "execution_count": null,
   "id": "29701343",
   "metadata": {},
   "outputs": [],
   "source": [
    "## Check which index+1 contains value closest to 90%\n",
    "df1 = pd.DataFrame(np.cumsum(pca.explained_variance_ratio_))\n",
    "df1\n",
    "# 19 PC's needed to explain 90%"
   ]
  },
  {
   "cell_type": "code",
   "execution_count": null,
   "id": "bb2bfa21",
   "metadata": {},
   "outputs": [],
   "source": [
    "# Let's do this more elegantly with a scree plot\n",
    "\n",
    "PC_values = np.arange(pca.n_components_) + 1\n",
    "plt.plot(PC_values, pca.explained_variance_ratio_, 'ro-', linewidth=2)\n",
    "plt.title('Scree Plot')\n",
    "plt.xlabel('Principal Component')\n",
    "plt.ylabel('Proportion of Variance Explained')\n",
    "plt.show()"
   ]
  },
  {
   "cell_type": "code",
   "execution_count": null,
   "id": "384dd6be",
   "metadata": {},
   "outputs": [],
   "source": [
    "# Check that 19 PC's explain 90% \n",
    "exp_var = pca.explained_variance_ratio_\n",
    "\n",
    "sum = 0\n",
    "for i in range(0,19):\n",
    "    sum+=exp_var[i]\n",
    "    \n",
    "sum\n",
    "\n",
    "#Confirmed, YAY!"
   ]
  },
  {
   "cell_type": "markdown",
   "id": "99c18549",
   "metadata": {},
   "source": [
    "#### Q7 Answer: \n",
    "\n",
    "You can see with both the line plot and the scree plot that 18 PC's are needed to acheive 90% variance."
   ]
  },
  {
   "cell_type": "markdown",
   "id": "07045118",
   "metadata": {},
   "source": [
    "**8. How different is the dimensionality reduction into two dimensions for PCA from that obtained using MDS (multi-dimensional scaling)? What methods could be used to determine the similarity? Illustrate with a plot.**\n"
   ]
  },
  {
   "cell_type": "markdown",
   "id": "fde2ea0c",
   "metadata": {},
   "source": [
    "MDS runs for a very long time when running it for the full table so we decided to just run it on a subset of the data and compare the results of MDS and PCA of that subset:"
   ]
  },
  {
   "cell_type": "code",
   "execution_count": null,
   "id": "a6fd8843",
   "metadata": {},
   "outputs": [],
   "source": [
    "from sklearn.manifold import MDS\n",
    "embedding = MDS(n_components=2,max_iter=50)\n",
    "X_transformed = embedding.fit_transform(x.iloc[:2000,:50])"
   ]
  },
  {
   "cell_type": "code",
   "execution_count": null,
   "id": "eb6c9842",
   "metadata": {},
   "outputs": [],
   "source": [
    "X_transformed"
   ]
  },
  {
   "cell_type": "code",
   "execution_count": null,
   "id": "2e88be16",
   "metadata": {},
   "outputs": [],
   "source": []
  },
  {
   "cell_type": "code",
   "execution_count": null,
   "id": "f0ae1594",
   "metadata": {},
   "outputs": [],
   "source": []
  },
  {
   "cell_type": "markdown",
   "id": "4c147662",
   "metadata": {},
   "source": [
    "**9. Would non-negative matrix factorization (https://en.wikipedia.org/wiki/Non-negative_matrix_factorization) be a useful method to use for this dataset? Why or why not?  (No plots needed for this question).**\n"
   ]
  },
  {
   "cell_type": "markdown",
   "id": "e056e8cd",
   "metadata": {},
   "source": [
    "#### Q9 Answer:\n",
    "\n",
    "NMF is used to decompose a dataset matrix into non-negative sub-matrices. This means that points in the transformed space can be constructed by adding together strictly positive features. This can be useful for interpretability.\n",
    "\n",
    "We think NMF could be useful for this dataset. We cannot see any clear clustering from our PCA, Due to NMF placing a strong constraint on decomposition, it may better extract reduced dimensions in our dataset. NMF can be useful in finding the experiments most representative of the clusters."
   ]
  },
  {
   "cell_type": "code",
   "execution_count": null,
   "id": "f1be49e7",
   "metadata": {},
   "outputs": [],
   "source": []
  },
  {
   "cell_type": "markdown",
   "id": "ae5bf9eb",
   "metadata": {},
   "source": []
  },
  {
   "cell_type": "markdown",
   "id": "b6167cee",
   "metadata": {},
   "source": []
  }
 ],
 "metadata": {
  "kernelspec": {
   "display_name": "Python 3 (ipykernel)",
   "language": "python",
   "name": "python3"
  },
  "language_info": {
   "codemirror_mode": {
    "name": "ipython",
    "version": 3
   },
   "file_extension": ".py",
   "mimetype": "text/x-python",
   "name": "python",
   "nbconvert_exporter": "python",
   "pygments_lexer": "ipython3",
   "version": "3.9.12"
  }
 },
 "nbformat": 4,
 "nbformat_minor": 5
}
